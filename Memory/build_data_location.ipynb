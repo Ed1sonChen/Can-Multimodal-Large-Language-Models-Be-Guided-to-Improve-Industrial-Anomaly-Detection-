{
 "cells": [
  {
   "cell_type": "code",
   "execution_count": null,
   "metadata": {},
   "outputs": [
    {
     "name": "stdout",
     "output_type": "stream",
     "text": [
      "Image locations from both datasets have been saved to reference_image_locations.txt\n"
     ]
    }
   ],
   "source": [
    "import os\n",
    "\n",
    "# Set the base directories using raw strings\n",
    "base_dirs = [\n",
    "    r'C:\\Users\\zhc23013\\Desktop\\MLLM_RAG_COT\\dataset\\MMAD\\MVTec-AD',\n",
    "    r'C:\\Users\\zhc23013\\Desktop\\MLLM_RAG_COT\\dataset\\MMAD\\VisA'\n",
    "]\n",
    "\n",
    "# Set the output text file to store image locations\n",
    "output_file = 'reference_image_locations.txt'\n",
    "\n",
    "# Open the output file in write mode\n",
    "with open(output_file, 'w') as f:\n",
    "    # Loop through each base directory\n",
    "    for base_dir in base_dirs:\n",
    "        # Loop through each subfolder in the base directory\n",
    "        for subfolder in os.listdir(base_dir):\n",
    "            subfolder_path = os.path.join(base_dir, subfolder)\n",
    "            # Check if it's a directory and has a 'train' folder\n",
    "            if os.path.isdir(subfolder_path):\n",
    "                train_folder = os.path.join(subfolder_path, 'train')\n",
    "                if os.path.exists(train_folder):\n",
    "                    # Loop through each image in the 'train' folder\n",
    "                    for root, _, files in os.walk(train_folder):\n",
    "                        for file in files:\n",
    "                            # Write the full file path to the output file\n",
    "                            f.write(os.path.join(root, file) + '\\n')\n",
    "\n",
    "print(f\"Image locations from both datasets have been saved to {output_file}\")\n"
   ]
  },
  {
   "cell_type": "code",
   "execution_count": 3,
   "metadata": {},
   "outputs": [
    {
     "name": "stdout",
     "output_type": "stream",
     "text": [
      "Image locations from both datasets have been saved to 1.txt\n"
     ]
    }
   ],
   "source": [
    "import os\n",
    "\n",
    "# Set the base directories using raw strings\n",
    "base_dirs = [\n",
    "    r'..\\dataset\\MMAD\\MVTec-AD',\n",
    "    r'..\\dataset\\MMAD\\VisA'\n",
    "]\n",
    "\n",
    "# Set the output text file to store image locations\n",
    "output_file = '1.txt'\n",
    "\n",
    "# Open the output file in write mode\n",
    "with open(output_file, 'w') as f:\n",
    "    # Loop through each base directory\n",
    "    for base_dir in base_dirs:\n",
    "        # Loop through each subfolder in the base directory\n",
    "        for subfolder in os.listdir(base_dir):\n",
    "            subfolder_path = os.path.join(base_dir, subfolder)\n",
    "            # Check if it's a directory and has a 'train' folder\n",
    "            if os.path.isdir(subfolder_path):\n",
    "                train_folder = os.path.join(subfolder_path, 'train')\n",
    "                if os.path.exists(train_folder):\n",
    "                    # Loop through each image in the 'train' folder\n",
    "                    for root, _, files in os.walk(train_folder):\n",
    "                        for file in files:\n",
    "                            # Write the full file path to the output file\n",
    "                            f.write(os.path.join(root, file) + '\\n')\n",
    "\n",
    "print(f\"Image locations from both datasets have been saved to {output_file}\")"
   ]
  },
  {
   "cell_type": "code",
   "execution_count": null,
   "metadata": {},
   "outputs": [],
   "source": []
  }
 ],
 "metadata": {
  "kernelspec": {
   "display_name": "yolov8",
   "language": "python",
   "name": "python3"
  },
  "language_info": {
   "codemirror_mode": {
    "name": "ipython",
    "version": 3
   },
   "file_extension": ".py",
   "mimetype": "text/x-python",
   "name": "python",
   "nbconvert_exporter": "python",
   "pygments_lexer": "ipython3",
   "version": "3.12.0"
  }
 },
 "nbformat": 4,
 "nbformat_minor": 2
}
